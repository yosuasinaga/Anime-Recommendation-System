{
  "cells": [
    {
      "cell_type": "markdown",
      "id": "837166e3",
      "metadata": {
        "id": "837166e3"
      },
      "source": [
        "# Machine Learning Terapan - Anime Recommendation Dataset\n",
        "\n",
        "- Nama: Yosua Samuel Edlyn Sinaga\n",
        "- Email: yosuas282@gmail.com\n",
        "- ID Dicoding: yosuasinaga"
      ]
    },
    {
      "cell_type": "markdown",
      "id": "32b02035",
      "metadata": {
        "id": "32b02035"
      },
      "source": [
        "## Import Libraries"
      ]
    },
    {
      "cell_type": "markdown",
      "id": "f09018b2",
      "metadata": {
        "id": "f09018b2"
      },
      "source": [
        "Menginstal library Surprise yang khusus digunakan untuk sistem rekomendasi dan mengimpor semua library yang dibutuhkan untuk analisis data, visualisasi, dan pembuatan model. Termasuk NumPy dan Pandas untuk manipulasi data, Matplotlib dan Seaborn untuk visualisasi, serta komponen dari Scikit-learn dan Surprise untuk pemodelan dan evaluasi."
      ]
    },
    {
      "cell_type": "code",
      "execution_count": 5,
      "id": "d61d6601",
      "metadata": {
        "id": "d61d6601"
      },
      "outputs": [],
      "source": [
        "import numpy as np\n",
        "import pandas as pd\n",
        "import time\n",
        "import random\n",
        "import matplotlib.pyplot as plt\n",
        "import seaborn as sns\n",
        "from sklearn.model_selection import train_test_split\n",
        "from sklearn.neighbors import NearestNeighbors\n",
        "from sklearn.metrics.pairwise import cosine_similarity\n",
        "from scipy.sparse import csr_matrix\n",
        "from surprise import SVD, Dataset, Reader\n",
        "from surprise.model_selection import train_test_split as surprise_train_test_split\n",
        "from surprise import accuracy"
      ]
    },
    {
      "cell_type": "markdown",
      "id": "2850fd11",
      "metadata": {
        "id": "2850fd11"
      },
      "source": [
        "## Load Data"
      ]
    },
    {
      "cell_type": "markdown",
      "id": "ddcaed76",
      "metadata": {
        "id": "ddcaed76"
      },
      "source": [
        "Memuat dua dataset utama: dataset Anime `anime.csv` dan dataset Rating `ratings.csv` menggunakan pandas."
      ]
    },
    {
      "cell_type": "code",
      "execution_count": 6,
      "id": "ead0ebc5",
      "metadata": {
        "id": "ead0ebc5",
        "outputId": "e5faa631-4ee1-4bf7-a7ba-a6c9a52ce887"
      },
      "outputs": [],
      "source": [
        "anime_df = pd.read_csv('dataset/anime.csv')\n",
        "rating_df = pd.read_csv('dataset/rating.csv')"
      ]
    },
    {
      "cell_type": "markdown",
      "id": "485b25e4",
      "metadata": {
        "id": "485b25e4"
      },
      "source": [
        "Dua DataFrame pandas telah dibuat dan siap untuk dianalisis: `anime_df` berisi informasi tentang anime dan `rating_df` berisi rating yang diberikan pengguna untuk anime."
      ]
    },
    {
      "cell_type": "markdown",
      "id": "f8b3e9bc",
      "metadata": {
        "id": "f8b3e9bc"
      },
      "source": [
        "## Exploratory Data Analysis (EDA)"
      ]
    },
    {
      "cell_type": "markdown",
      "id": "c1b8546c",
      "metadata": {
        "id": "c1b8546c"
      },
      "source": [
        "### Dataset Anime"
      ]
    },
    {
      "cell_type": "markdown",
      "id": "7ddc9b2e",
      "metadata": {
        "id": "7ddc9b2e"
      },
      "source": [
        "Ditampilkan 5 baris pertama dari dataset anime yang berisi kolom seperti ID Anime, Judul Anime, Genre, Tipe, Episode, Rating, dan Members."
      ]
    },
    {
      "cell_type": "code",
      "execution_count": 7,
      "id": "31b15253",
      "metadata": {
        "id": "31b15253",
        "outputId": "ec413f3b-87b1-4b4c-f227-47f92d82f792"
      },
      "outputs": [
        {
          "data": {
            "text/html": [
              "<div>\n",
              "<style scoped>\n",
              "    .dataframe tbody tr th:only-of-type {\n",
              "        vertical-align: middle;\n",
              "    }\n",
              "\n",
              "    .dataframe tbody tr th {\n",
              "        vertical-align: top;\n",
              "    }\n",
              "\n",
              "    .dataframe thead th {\n",
              "        text-align: right;\n",
              "    }\n",
              "</style>\n",
              "<table border=\"1\" class=\"dataframe\">\n",
              "  <thead>\n",
              "    <tr style=\"text-align: right;\">\n",
              "      <th></th>\n",
              "      <th>anime_id</th>\n",
              "      <th>name</th>\n",
              "      <th>genre</th>\n",
              "      <th>type</th>\n",
              "      <th>episodes</th>\n",
              "      <th>rating</th>\n",
              "      <th>members</th>\n",
              "    </tr>\n",
              "  </thead>\n",
              "  <tbody>\n",
              "    <tr>\n",
              "      <th>0</th>\n",
              "      <td>32281</td>\n",
              "      <td>Kimi no Na wa.</td>\n",
              "      <td>Drama, Romance, School, Supernatural</td>\n",
              "      <td>Movie</td>\n",
              "      <td>1</td>\n",
              "      <td>9.37</td>\n",
              "      <td>200630</td>\n",
              "    </tr>\n",
              "    <tr>\n",
              "      <th>1</th>\n",
              "      <td>5114</td>\n",
              "      <td>Fullmetal Alchemist: Brotherhood</td>\n",
              "      <td>Action, Adventure, Drama, Fantasy, Magic, Mili...</td>\n",
              "      <td>TV</td>\n",
              "      <td>64</td>\n",
              "      <td>9.26</td>\n",
              "      <td>793665</td>\n",
              "    </tr>\n",
              "    <tr>\n",
              "      <th>2</th>\n",
              "      <td>28977</td>\n",
              "      <td>Gintama°</td>\n",
              "      <td>Action, Comedy, Historical, Parody, Samurai, S...</td>\n",
              "      <td>TV</td>\n",
              "      <td>51</td>\n",
              "      <td>9.25</td>\n",
              "      <td>114262</td>\n",
              "    </tr>\n",
              "    <tr>\n",
              "      <th>3</th>\n",
              "      <td>9253</td>\n",
              "      <td>Steins;Gate</td>\n",
              "      <td>Sci-Fi, Thriller</td>\n",
              "      <td>TV</td>\n",
              "      <td>24</td>\n",
              "      <td>9.17</td>\n",
              "      <td>673572</td>\n",
              "    </tr>\n",
              "    <tr>\n",
              "      <th>4</th>\n",
              "      <td>9969</td>\n",
              "      <td>Gintama&amp;#039;</td>\n",
              "      <td>Action, Comedy, Historical, Parody, Samurai, S...</td>\n",
              "      <td>TV</td>\n",
              "      <td>51</td>\n",
              "      <td>9.16</td>\n",
              "      <td>151266</td>\n",
              "    </tr>\n",
              "  </tbody>\n",
              "</table>\n",
              "</div>"
            ],
            "text/plain": [
              "   anime_id                              name  \\\n",
              "0     32281                    Kimi no Na wa.   \n",
              "1      5114  Fullmetal Alchemist: Brotherhood   \n",
              "2     28977                          Gintama°   \n",
              "3      9253                       Steins;Gate   \n",
              "4      9969                     Gintama&#039;   \n",
              "\n",
              "                                               genre   type episodes  rating  \\\n",
              "0               Drama, Romance, School, Supernatural  Movie        1    9.37   \n",
              "1  Action, Adventure, Drama, Fantasy, Magic, Mili...     TV       64    9.26   \n",
              "2  Action, Comedy, Historical, Parody, Samurai, S...     TV       51    9.25   \n",
              "3                                   Sci-Fi, Thriller     TV       24    9.17   \n",
              "4  Action, Comedy, Historical, Parody, Samurai, S...     TV       51    9.16   \n",
              "\n",
              "   members  \n",
              "0   200630  \n",
              "1   793665  \n",
              "2   114262  \n",
              "3   673572  \n",
              "4   151266  "
            ]
          },
          "execution_count": 7,
          "metadata": {},
          "output_type": "execute_result"
        }
      ],
      "source": [
        "# Melihat beberapa sampel data anime\n",
        "anime_df.head()"
      ]
    },
    {
      "cell_type": "markdown",
      "id": "05d91093",
      "metadata": {
        "id": "05d91093"
      },
      "source": [
        "Menampilkan informasi tentang dataset anime termasuk jumlah total baris, nama kolom, jumlah nilai non-null, dan tipe data setiap kolom. Terlihat ada nilai null pada kolom `genre`, `type`, dan `rating`."
      ]
    },
    {
      "cell_type": "code",
      "execution_count": 8,
      "id": "78269612",
      "metadata": {
        "id": "78269612",
        "outputId": "940a2d16-c5ca-4da7-908e-f456d5547674"
      },
      "outputs": [
        {
          "name": "stdout",
          "output_type": "stream",
          "text": [
            "<class 'pandas.core.frame.DataFrame'>\n",
            "RangeIndex: 11153 entries, 0 to 11152\n",
            "Data columns (total 7 columns):\n",
            " #   Column    Non-Null Count  Dtype  \n",
            "---  ------    --------------  -----  \n",
            " 0   anime_id  11153 non-null  int64  \n",
            " 1   name      11153 non-null  object \n",
            " 2   genre     11091 non-null  object \n",
            " 3   type      11128 non-null  object \n",
            " 4   episodes  11153 non-null  object \n",
            " 5   rating    10931 non-null  float64\n",
            " 6   members   11153 non-null  int64  \n",
            "dtypes: float64(1), int64(2), object(4)\n",
            "memory usage: 610.1+ KB\n"
          ]
        }
      ],
      "source": [
        "# Memeriksa informasi dataset anime\n",
        "anime_df.info()"
      ]
    },
    {
      "cell_type": "markdown",
      "id": "c49d75a6",
      "metadata": {
        "id": "c49d75a6"
      },
      "source": [
        "Menampilkan 10 genre teratas berdasarkan frekuensi kemunculan dalam dataset. Sebagian besar anime dalam dataset memiliki genre yang beragam, dengan genre Comedy menjadi yang paling dominan. Genre Comedy muncul sebanyak 523 kali, diikuti oleh genre Music dengan 301 kemunculan. Puncak frekuensi kemunculan genre terjadi pada genre Comedy, yang paling banyak muncul dalam dataset."
      ]
    },
    {
      "cell_type": "code",
      "execution_count": 9,
      "id": "e0b1fe0d",
      "metadata": {
        "id": "e0b1fe0d",
        "outputId": "73eb44e4-b2d9-4b0c-afa5-09c6a30c53e5"
      },
      "outputs": [
        {
          "data": {
            "text/plain": [
              "genre\n",
              "Comedy                   523\n",
              "Music                    301\n",
              "Kids                     199\n",
              "Comedy, Slice of Life    179\n",
              "Dementia                 137\n",
              "Fantasy, Kids            128\n",
              "Fantasy                  114\n",
              "Comedy, Kids             112\n",
              "Drama                    107\n",
              "Drama, Kids              105\n",
              "Name: count, dtype: int64"
            ]
          },
          "execution_count": 9,
          "metadata": {},
          "output_type": "execute_result"
        }
      ],
      "source": [
        "# Memeriksa nilai-nilai unik dan distribusi untuk genre\n",
        "anime_df['genre'].value_counts().head(10)"
      ]
    },
    {
      "cell_type": "markdown",
      "id": "fa79ee23",
      "metadata": {
        "id": "fa79ee23"
      },
      "source": [
        "Mengidentifikasi 6 tipe anime teratas berdasarkan jumlah kemunculan dalam dataset. Tipe anime TV adalah yang paling banyak muncul, dengan total 3.787 kemunculan, diikuti oleh Movie dengan 2.340 kemunculan. Puncak frekuensi kemunculan tipe anime terjadi pada tipe TV, yang paling banyak tersedia dalam dataset."
      ]
    },
    {
      "cell_type": "code",
      "execution_count": 10,
      "id": "8e2ac518",
      "metadata": {
        "id": "8e2ac518",
        "outputId": "7d7b3c1d-0a2d-48bc-b956-c7a88f7738d4"
      },
      "outputs": [
        {
          "data": {
            "text/plain": [
              "type\n",
              "TV         3787\n",
              "Movie      2340\n",
              "OVA        2199\n",
              "Special    1657\n",
              "ONA         657\n",
              "Music       488\n",
              "Name: count, dtype: int64"
            ]
          },
          "execution_count": 10,
          "metadata": {},
          "output_type": "execute_result"
        }
      ],
      "source": [
        "# Top 6 tipe dengan jumlah anime terbanyak\n",
        "anime_df['type'].value_counts().head(6)"
      ]
    },
    {
      "cell_type": "markdown",
      "id": "1f0a7e59",
      "metadata": {
        "id": "1f0a7e59"
      },
      "source": [
        "### Dataset Rating"
      ]
    },
    {
      "cell_type": "markdown",
      "id": "c9bffff5",
      "metadata": {
        "id": "c9bffff5"
      },
      "source": [
        "Menampilkan 5 baris pertama dari dataset rating untuk memahami struktur datanya. Dataset rating berisi ID Pengguna, ID Anime, dan Rating."
      ]
    },
    {
      "cell_type": "code",
      "execution_count": 11,
      "id": "0d60ce04",
      "metadata": {
        "id": "0d60ce04",
        "outputId": "449492ed-97d6-4f9f-ca54-d2027ca90613"
      },
      "outputs": [
        {
          "data": {
            "text/html": [
              "<div>\n",
              "<style scoped>\n",
              "    .dataframe tbody tr th:only-of-type {\n",
              "        vertical-align: middle;\n",
              "    }\n",
              "\n",
              "    .dataframe tbody tr th {\n",
              "        vertical-align: top;\n",
              "    }\n",
              "\n",
              "    .dataframe thead th {\n",
              "        text-align: right;\n",
              "    }\n",
              "</style>\n",
              "<table border=\"1\" class=\"dataframe\">\n",
              "  <thead>\n",
              "    <tr style=\"text-align: right;\">\n",
              "      <th></th>\n",
              "      <th>user_id</th>\n",
              "      <th>anime_id</th>\n",
              "      <th>rating</th>\n",
              "    </tr>\n",
              "  </thead>\n",
              "  <tbody>\n",
              "    <tr>\n",
              "      <th>0</th>\n",
              "      <td>1</td>\n",
              "      <td>20</td>\n",
              "      <td>-1</td>\n",
              "    </tr>\n",
              "    <tr>\n",
              "      <th>1</th>\n",
              "      <td>1</td>\n",
              "      <td>24</td>\n",
              "      <td>-1</td>\n",
              "    </tr>\n",
              "    <tr>\n",
              "      <th>2</th>\n",
              "      <td>1</td>\n",
              "      <td>79</td>\n",
              "      <td>-1</td>\n",
              "    </tr>\n",
              "    <tr>\n",
              "      <th>3</th>\n",
              "      <td>1</td>\n",
              "      <td>226</td>\n",
              "      <td>-1</td>\n",
              "    </tr>\n",
              "    <tr>\n",
              "      <th>4</th>\n",
              "      <td>1</td>\n",
              "      <td>241</td>\n",
              "      <td>-1</td>\n",
              "    </tr>\n",
              "  </tbody>\n",
              "</table>\n",
              "</div>"
            ],
            "text/plain": [
              "   user_id  anime_id  rating\n",
              "0        1        20      -1\n",
              "1        1        24      -1\n",
              "2        1        79      -1\n",
              "3        1       226      -1\n",
              "4        1       241      -1"
            ]
          },
          "execution_count": 11,
          "metadata": {},
          "output_type": "execute_result"
        }
      ],
      "source": [
        "# Melihat beberapa sampel data rating\n",
        "rating_df.head()"
      ]
    },
    {
      "cell_type": "markdown",
      "id": "7f3fba1b",
      "metadata": {
        "id": "7f3fba1b"
      },
      "source": [
        "Memeriksa tipe data dan jumlah nilai non-null untuk setiap kolom dalam dataset rating. Tidak ada nilai null."
      ]
    },
    {
      "cell_type": "code",
      "execution_count": 12,
      "id": "6b43c345",
      "metadata": {
        "id": "6b43c345",
        "outputId": "e33260a2-42c8-4293-d8d7-a97993f023d6"
      },
      "outputs": [
        {
          "name": "stdout",
          "output_type": "stream",
          "text": [
            "<class 'pandas.core.frame.DataFrame'>\n",
            "RangeIndex: 7712252 entries, 0 to 7712251\n",
            "Data columns (total 3 columns):\n",
            " #   Column    Dtype\n",
            "---  ------    -----\n",
            " 0   user_id   int64\n",
            " 1   anime_id  int64\n",
            " 2   rating    int64\n",
            "dtypes: int64(3)\n",
            "memory usage: 176.5 MB\n"
          ]
        }
      ],
      "source": [
        "# Memeriksa informasi dataset rating\n",
        "rating_df.info()"
      ]
    },
    {
      "cell_type": "markdown",
      "id": "0900190b",
      "metadata": {
        "id": "0900190b"
      },
      "source": [
        "Menghitung frekuensi setiap nilai rating dan mengurutkannya berdasarkan nilai rating untuk melihat distribusi rating dalam dataset. Banyak pengguna yang belum memberikan rating pada anime, yang ditandai dengan nilai rating -1 sebanyak 1.445.887 entri. Setelah nilai -1, rating terbanyak berada di rentang 7, 8, dan 10, yang menunjukkan kecenderungan pengguna memberikan rating tinggi. Rating rendah (1–3) sangat jarang, yang menandakan adanya bias positif dalam penilaian anime atau kemungkinan pengguna cenderung tidak memberi rating jika mereka tidak menyukai anime."
      ]
    },
    {
      "cell_type": "code",
      "execution_count": 13,
      "id": "aa49f36e",
      "metadata": {
        "id": "aa49f36e",
        "outputId": "518f1792-348c-4a91-9fe1-00eb880db9d2"
      },
      "outputs": [
        {
          "data": {
            "text/plain": [
              "rating\n",
              "-1     1445887\n",
              " 1       14728\n",
              " 2       21728\n",
              " 3       39601\n",
              " 4      100641\n",
              " 5      273986\n",
              " 6      624450\n",
              " 7     1358273\n",
              " 8     1634495\n",
              " 9     1248277\n",
              " 10     950186\n",
              "Name: count, dtype: int64"
            ]
          },
          "execution_count": 13,
          "metadata": {},
          "output_type": "execute_result"
        }
      ],
      "source": [
        "# Distribusi rating\n",
        "rating_df['rating'].value_counts().sort_index()"
      ]
    },
    {
      "cell_type": "markdown",
      "id": "3c1f546d",
      "metadata": {
        "id": "3c1f546d"
      },
      "source": [
        "### Distribusi Rating per Pengguna"
      ]
    },
    {
      "cell_type": "markdown",
      "id": "e0cdb3d0",
      "metadata": {
        "id": "e0cdb3d0"
      },
      "source": [
        "Mayoritas pengguna hanya memberikan sedikit rating. Sebagian besar pengguna hanya memberi rating untuk kurang dari 5 anime. Distribusi sangat miring ke kanan (right-skewed), sebagian kecil pengguna sangat aktif dan memberi puluhan hingga ratusan rating."
      ]
    },
    {
      "cell_type": "code",
      "execution_count": 14,
      "id": "e1e5b71d",
      "metadata": {
        "id": "e1e5b71d",
        "outputId": "627eb5e8-8c66-49be-e4c6-9561845b17b1"
      },
      "outputs": [
        {
          "data": {
            "image/png": "[encoded data removed]",
            "text/plain": [
              "<Figure size 1000x600 with 1 Axes>"
            ]
          },
          "metadata": {},
          "output_type": "display_data"
        }
      ],
      "source": [
        "# Menghitung jumlah rating per pengguna\n",
        "ratings_per_user = rating_df.groupby('user_id')['rating'].count().reset_index()\n",
        "ratings_per_user.columns = ['user_id', 'rating_count']\n",
        "\n",
        "# Visualisasi distribusi jumlah rating per pengguna\n",
        "import matplotlib.pyplot as plt\n",
        "import seaborn as sns\n",
        "\n",
        "plt.figure(figsize=(10, 6))\n",
        "sns.histplot(ratings_per_user[ratings_per_user['rating_count'] < 700]['rating_count'], bins=30, kde=True)\n",
        "plt.title('Distribusi Jumlah Rating per Pengguna')\n",
        "plt.xlabel('Jumlah Rating')\n",
        "plt.ylabel('Jumlah Pengguna')\n",
        "plt.show()"
      ]
    },
    {
      "cell_type": "markdown",
      "id": "b89b79f5",
      "metadata": {
        "id": "b89b79f5"
      },
      "source": [
        "### Distribusi Rating per Anime"
      ]
    },
    {
      "cell_type": "markdown",
      "id": "a9e0da52",
      "metadata": {
        "id": "a9e0da52"
      },
      "source": [
        "Sebagian besar anime menerima sangat sedikit rating, lonjakan tertinggi pada 1–5 rating per anime. Hanya sedikit anime yang mendapatkan puluhan hingga ratusan atau ribuan rating. Banyak anime yang cold items dengan hampir tak ada feedback, sementara segelintir anime populer mengumpulkan sebagian besar rating."
      ]
    },
    {
      "cell_type": "code",
      "execution_count": 15,
      "id": "00c321d0",
      "metadata": {
        "id": "00c321d0",
        "outputId": "87d9c5b6-b1dd-4013-91b9-e27da8e07328"
      },
      "outputs": [
        {
          "data": {
            "image/png": "[encoded data removed]",
            "text/plain": [
              "<Figure size 1000x600 with 1 Axes>"
            ]
          },
          "metadata": {},
          "output_type": "display_data"
        }
      ],
      "source": [
        "# Menghitung jumlah rating per anime\n",
        "ratings_per_anime = rating_df.groupby('anime_id')['rating'].count().reset_index()\n",
        "ratings_per_anime.columns = ['anime_id', 'rating_count']\n",
        "\n",
        "# Visualisasi distribusi jumlah rating per anime\n",
        "import matplotlib.pyplot as plt\n",
        "import seaborn as sns\n",
        "\n",
        "plt.figure(figsize=(10, 6))\n",
        "sns.histplot(ratings_per_anime[ratings_per_anime['rating_count'] < 5000]['rating_count'], bins=30, kde=True)\n",
        "plt.title('Distribusi Jumlah Rating per Anime')\n",
        "plt.xlabel('Jumlah Rating')\n",
        "plt.ylabel('Jumlah Anime')\n",
        "plt.show()"
      ]
    },
    {
      "cell_type": "markdown",
      "id": "822bb238",
      "metadata": {
        "id": "822bb238"
      },
      "source": [
        "### Cek Missing Values"
      ]
    },
    {
      "cell_type": "markdown",
      "id": "4cbaa3cb",
      "metadata": {
        "id": "4cbaa3cb"
      },
      "source": [
        "Memeriksa jumlah nilai yang hilang (missing values) pada setiap kolom dalam ketiga dataset.\n",
        "1. Dataset Anime:\n",
        "- anime_id: Tidak ada nilai yang hilang.\n",
        "- name: Tidak ada nilai yang hilang.\n",
        "- genre: 62 nilai yang hilang.\n",
        "- type: 25 nilai yang hilang.\n",
        "- episodes: Tidak ada nilai yang hilang.\n",
        "- rating: 222 nilai yang hilang.\n",
        "- members: Tidak ada nilai yang hilang.\n",
        "\n",
        "2. Dataset Rating:\n",
        "- user_id: Tidak ada nilai yang hilang.\n",
        "- anime_id: Tidak ada nilai yang hilang.\n",
        "- rating: Tidak ada nilai yang hilang."
      ]
    },
    {
      "cell_type": "code",
      "execution_count": 16,
      "id": "56d94eb1",
      "metadata": {
        "id": "56d94eb1",
        "outputId": "c1a4988b-1703-4111-f2a4-fdc2c9deb4d0"
      },
      "outputs": [
        {
          "name": "stdout",
          "output_type": "stream",
          "text": [
            "Missing values in Anime dataset:\n",
            "anime_id      0\n",
            "name          0\n",
            "genre        62\n",
            "type         25\n",
            "episodes      0\n",
            "rating      222\n",
            "members       0\n",
            "dtype: int64\n",
            "\n",
            "Missing values in Rating dataset:\n",
            "user_id     0\n",
            "anime_id    0\n",
            "rating      0\n",
            "dtype: int64\n"
          ]
        }
      ],
      "source": [
        "# Memeriksa missing values pada setiap dataset\n",
        "print(\"Missing values in Anime dataset:\")\n",
        "print(anime_df.isnull().sum())\n",
        "\n",
        "print(\"\\nMissing values in Rating dataset:\")\n",
        "print(rating_df.isnull().sum())"
      ]
    },
    {
      "cell_type": "markdown",
      "id": "57bb402f",
      "metadata": {
        "id": "57bb402f"
      },
      "source": [
        "## Data Preprocessing"
      ]
    },
    {
      "cell_type": "markdown",
      "id": "62d5fcb5",
      "metadata": {
        "id": "62d5fcb5"
      },
      "source": [
        "### Penanganan Missing Values"
      ]
    },
    {
      "cell_type": "markdown",
      "id": "1979cacd",
      "metadata": {
        "id": "1979cacd"
      },
      "source": [
        "Menghapus baris dengan nilai yang hilang pada kolom **genre**, **type**, dan **rating** dari dataset anime. Karena dataset pengguna tidak ada, tidak ada penanganan missing values pada kolom **Age**.\n"
      ]
    },
    {
      "cell_type": "code",
      "execution_count": 17,
      "id": "346ec9d0",
      "metadata": {
        "id": "346ec9d0"
      },
      "outputs": [],
      "source": [
        "# Menangani missing values pada dataset Anime\n",
        "anime_df = anime_df.dropna(subset=['genre', 'type', 'rating'])\n",
        "\n",
        "# Dataset Rating tidak memiliki missing values, jadi tidak perlu penanganan lebih lanjut\n"
      ]
    },
    {
      "cell_type": "markdown",
      "id": "b56cd724",
      "metadata": {},
      "source": [
        "### Memproses dataset Rating "
      ]
    },
    {
      "cell_type": "markdown",
      "id": "2e0d9287",
      "metadata": {},
      "source": [
        "Dataset asli memiliki lebih dari **6 juta** entri setelah menghapus data dengan **rating -1**. Namun, karena dataset yang sangat besar, proses komputasi bisa menjadi sangat lambat. Oleh karena itu, untuk efisiensi pemrosesan, dataset dipangkas menjadi **1.3 juta** entri dengan mengambil **sampel acak**. Detailnya adalah sebagai berikut:\n",
        "- **Penghapusan Rating -1** mengurangi ukuran dataset dari 7 juta entri menjadi sekitar 6.2 juta entri.\n",
        "- **Sampling acak** menghasilkan dataset berukuran 1.3 juta entri, yang lebih efisien untuk pemrosesan lebih lanjut.\n",
        "- **Pencocokan `anime_id`** memastikan bahwa tidak ada **`anime_id`** yang hilang di antara dua dataset (rating dan anime).\n"
      ]
    },
    {
      "cell_type": "code",
      "execution_count": 18,
      "id": "7aa07c0f",
      "metadata": {},
      "outputs": [
        {
          "name": "stdout",
          "output_type": "stream",
          "text": [
            "Jumlah entri setelah menghapus rating -1: 6266365\n",
            "Jumlah entri setelah sampling: 1336445\n",
            "Jumlah entri setelah mencocokkan anime_id: 7512\n",
            "Jumlah entri setelah mencocokkan anime_id: 1336418\n",
            "Jumlah anime_id yang ada di anime_df tetapi tidak ada di rating_df: 0\n",
            "Jumlah anime_id yang ada di rating_df tetapi tidak ada di anime_df: 0\n"
          ]
        }
      ],
      "source": [
        "# Menghapus semua baris dengan rating -1\n",
        "rating_df = rating_df[rating_df['rating'] != -1]\n",
        "\n",
        "# Cek jumlah baris setelah penghapusan\n",
        "print(f\"Jumlah entri setelah menghapus rating -1: {rating_df.shape[0]}\")\n",
        "# Ambil sampel acak sebanyak 1.1 juta entri\n",
        "rating_df = rating_df.sample(n=1336445, random_state=42)\n",
        "# Cek jumlah baris setelah sampling\n",
        "print(f\"Jumlah entri setelah sampling: {rating_df.shape[0]}\")\n",
        "\n",
        "# Pastikan `rating_df` berisi semua `anime_id` yang valid\n",
        "valid_anime_ids = set(rating_df['anime_id'].tolist())\n",
        "# Hapus data pada anime_df yang tidak ada di valid_anime_ids\n",
        "anime_df = anime_df[anime_df['anime_id'].isin(valid_anime_ids)]\n",
        "# Cek jumlah entri setelah filter\n",
        "print(f\"Jumlah entri setelah mencocokkan anime_id: {anime_df.shape[0]}\")\n",
        "\n",
        "# Pastikan `anime_df` berisi semua `anime_id` yang valid\n",
        "valid_anime_ids = set(anime_df['anime_id'].tolist())\n",
        "# Hapus data pada rating_df yang tidak ada di valid_anime_ids\n",
        "rating_df = rating_df[rating_df['anime_id'].isin(valid_anime_ids)]\n",
        "# Cek jumlah entri setelah filter\n",
        "print(f\"Jumlah entri setelah mencocokkan anime_id: {rating_df.shape[0]}\")\n",
        "\n",
        "# Anime yang ada di anime_df tetapi tidak ada di rating_df\n",
        "missing_in_ratings = set(anime_df['anime_id']) - set(rating_df['anime_id'])\n",
        "print(f\"Jumlah anime_id yang ada di anime_df tetapi tidak ada di rating_df: {len(missing_in_ratings)}\")\n",
        "\n",
        "# Anime yang ada di rating_df tetapi tidak ada di anime_df\n",
        "missing_in_anime_df = set(rating_df['anime_id']) - set(anime_df['anime_id'])\n",
        "print(f\"Jumlah anime_id yang ada di rating_df tetapi tidak ada di anime_df: {len(missing_in_anime_df)}\")\n"
      ]
    },
    {
      "cell_type": "markdown",
      "id": "704ca952",
      "metadata": {},
      "source": [
        "- **`reset_index(drop=True)`** digunakan untuk mereset index dan menghapus kolom index lama.\n",
        "- Dataset akan memiliki index yang dimulai dari **0** dan berlanjut secara berturut-turut hingga baris terakhir."
      ]
    },
    {
      "cell_type": "code",
      "execution_count": 19,
      "id": "f7896858",
      "metadata": {},
      "outputs": [
        {
          "data": {
            "text/html": [
              "<div>\n",
              "<style scoped>\n",
              "    .dataframe tbody tr th:only-of-type {\n",
              "        vertical-align: middle;\n",
              "    }\n",
              "\n",
              "    .dataframe tbody tr th {\n",
              "        vertical-align: top;\n",
              "    }\n",
              "\n",
              "    .dataframe thead th {\n",
              "        text-align: right;\n",
              "    }\n",
              "</style>\n",
              "<table border=\"1\" class=\"dataframe\">\n",
              "  <thead>\n",
              "    <tr style=\"text-align: right;\">\n",
              "      <th></th>\n",
              "      <th>user_id</th>\n",
              "      <th>anime_id</th>\n",
              "      <th>rating</th>\n",
              "    </tr>\n",
              "  </thead>\n",
              "  <tbody>\n",
              "    <tr>\n",
              "      <th>0</th>\n",
              "      <td>72341</td>\n",
              "      <td>10087</td>\n",
              "      <td>8</td>\n",
              "    </tr>\n",
              "    <tr>\n",
              "      <th>1</th>\n",
              "      <td>2771</td>\n",
              "      <td>6351</td>\n",
              "      <td>9</td>\n",
              "    </tr>\n",
              "    <tr>\n",
              "      <th>2</th>\n",
              "      <td>36317</td>\n",
              "      <td>22199</td>\n",
              "      <td>9</td>\n",
              "    </tr>\n",
              "    <tr>\n",
              "      <th>3</th>\n",
              "      <td>75</td>\n",
              "      <td>3927</td>\n",
              "      <td>8</td>\n",
              "    </tr>\n",
              "    <tr>\n",
              "      <th>4</th>\n",
              "      <td>56810</td>\n",
              "      <td>240</td>\n",
              "      <td>8</td>\n",
              "    </tr>\n",
              "  </tbody>\n",
              "</table>\n",
              "</div>"
            ],
            "text/plain": [
              "   user_id  anime_id  rating\n",
              "0    72341     10087       8\n",
              "1     2771      6351       9\n",
              "2    36317     22199       9\n",
              "3       75      3927       8\n",
              "4    56810       240       8"
            ]
          },
          "execution_count": 19,
          "metadata": {},
          "output_type": "execute_result"
        }
      ],
      "source": [
        "# Reset index sehingga index dimulai dari 0\n",
        "rating_df = rating_df.reset_index(drop=True)\n",
        "\n",
        "# Cek hasil setelah reset index\n",
        "rating_df.head()\n"
      ]
    },
    {
      "cell_type": "markdown",
      "id": "47bbbbd1",
      "metadata": {},
      "source": [
        "- **`reset_index(drop=True)`** digunakan untuk mereset index dan menghapus kolom index lama.\n",
        "- Dataset akan memiliki index yang dimulai dari **0** dan berlanjut secara berturut-turut hingga baris terakhir."
      ]
    },
    {
      "cell_type": "code",
      "execution_count": 20,
      "id": "664389a8",
      "metadata": {},
      "outputs": [
        {
          "data": {
            "text/html": [
              "<div>\n",
              "<style scoped>\n",
              "    .dataframe tbody tr th:only-of-type {\n",
              "        vertical-align: middle;\n",
              "    }\n",
              "\n",
              "    .dataframe tbody tr th {\n",
              "        vertical-align: top;\n",
              "    }\n",
              "\n",
              "    .dataframe thead th {\n",
              "        text-align: right;\n",
              "    }\n",
              "</style>\n",
              "<table border=\"1\" class=\"dataframe\">\n",
              "  <thead>\n",
              "    <tr style=\"text-align: right;\">\n",
              "      <th></th>\n",
              "      <th>anime_id</th>\n",
              "      <th>name</th>\n",
              "      <th>genre</th>\n",
              "      <th>type</th>\n",
              "      <th>episodes</th>\n",
              "      <th>rating</th>\n",
              "      <th>members</th>\n",
              "    </tr>\n",
              "  </thead>\n",
              "  <tbody>\n",
              "    <tr>\n",
              "      <th>0</th>\n",
              "      <td>32281</td>\n",
              "      <td>Kimi no Na wa.</td>\n",
              "      <td>Drama, Romance, School, Supernatural</td>\n",
              "      <td>Movie</td>\n",
              "      <td>1</td>\n",
              "      <td>9.37</td>\n",
              "      <td>200630</td>\n",
              "    </tr>\n",
              "    <tr>\n",
              "      <th>1</th>\n",
              "      <td>5114</td>\n",
              "      <td>Fullmetal Alchemist: Brotherhood</td>\n",
              "      <td>Action, Adventure, Drama, Fantasy, Magic, Mili...</td>\n",
              "      <td>TV</td>\n",
              "      <td>64</td>\n",
              "      <td>9.26</td>\n",
              "      <td>793665</td>\n",
              "    </tr>\n",
              "    <tr>\n",
              "      <th>2</th>\n",
              "      <td>28977</td>\n",
              "      <td>Gintama°</td>\n",
              "      <td>Action, Comedy, Historical, Parody, Samurai, S...</td>\n",
              "      <td>TV</td>\n",
              "      <td>51</td>\n",
              "      <td>9.25</td>\n",
              "      <td>114262</td>\n",
              "    </tr>\n",
              "    <tr>\n",
              "      <th>3</th>\n",
              "      <td>9253</td>\n",
              "      <td>Steins;Gate</td>\n",
              "      <td>Sci-Fi, Thriller</td>\n",
              "      <td>TV</td>\n",
              "      <td>24</td>\n",
              "      <td>9.17</td>\n",
              "      <td>673572</td>\n",
              "    </tr>\n",
              "    <tr>\n",
              "      <th>4</th>\n",
              "      <td>9969</td>\n",
              "      <td>Gintama&amp;#039;</td>\n",
              "      <td>Action, Comedy, Historical, Parody, Samurai, S...</td>\n",
              "      <td>TV</td>\n",
              "      <td>51</td>\n",
              "      <td>9.16</td>\n",
              "      <td>151266</td>\n",
              "    </tr>\n",
              "  </tbody>\n",
              "</table>\n",
              "</div>"
            ],
            "text/plain": [
              "   anime_id                              name  \\\n",
              "0     32281                    Kimi no Na wa.   \n",
              "1      5114  Fullmetal Alchemist: Brotherhood   \n",
              "2     28977                          Gintama°   \n",
              "3      9253                       Steins;Gate   \n",
              "4      9969                     Gintama&#039;   \n",
              "\n",
              "                                               genre   type episodes  rating  \\\n",
              "0               Drama, Romance, School, Supernatural  Movie        1    9.37   \n",
              "1  Action, Adventure, Drama, Fantasy, Magic, Mili...     TV       64    9.26   \n",
              "2  Action, Comedy, Historical, Parody, Samurai, S...     TV       51    9.25   \n",
              "3                                   Sci-Fi, Thriller     TV       24    9.17   \n",
              "4  Action, Comedy, Historical, Parody, Samurai, S...     TV       51    9.16   \n",
              "\n",
              "   members  \n",
              "0   200630  \n",
              "1   793665  \n",
              "2   114262  \n",
              "3   673572  \n",
              "4   151266  "
            ]
          },
          "execution_count": 20,
          "metadata": {},
          "output_type": "execute_result"
        }
      ],
      "source": [
        "# Reset index sehingga index dimulai dari 0\n",
        "anime_df = anime_df.reset_index(drop=True)\n",
        "\n",
        "# Cek hasil setelah reset index\n",
        "anime_df.head()"
      ]
    },
    {
      "cell_type": "markdown",
      "id": "edcdbd35",
      "metadata": {
        "id": "edcdbd35"
      },
      "source": [
        "### Filtering Data"
      ]
    },
    {
      "cell_type": "markdown",
      "id": "c3c35ccd",
      "metadata": {
        "id": "c3c35ccd"
      },
      "source": [
        "Mengkonversi **episodes** ke tipe numerik dan menangani nilai tidak valid dengan coercion. Memfilter anime berdasarkan jumlah episode yang masuk akal (misalnya, lebih dari 0 episode)."
      ]
    },
    {
      "cell_type": "code",
      "execution_count": 21,
      "id": "8da7dfa4",
      "metadata": {
        "id": "8da7dfa4"
      },
      "outputs": [],
      "source": [
        "# Konversi 'episodes' ke numerik dan tangani nilai tidak valid\n",
        "anime_df['episodes'] = pd.to_numeric(anime_df['episodes'], errors='coerce')\n",
        "\n",
        "# Filter anime dengan jumlah episode yang masuk akal (misalnya lebih dari 0 episode)\n",
        "anime_df = anime_df[anime_df['episodes'] > 0]"
      ]
    },
    {
      "cell_type": "markdown",
      "id": "ece90fe6",
      "metadata": {
        "id": "ece90fe6"
      },
      "source": [
        "Memfilter **rating** hanya yang eksplisit (nilai > 0) dalam dataset **Rating**."
      ]
    },
    {
      "cell_type": "code",
      "execution_count": 22,
      "id": "135b452a",
      "metadata": {
        "id": "135b452a"
      },
      "outputs": [],
      "source": [
        "# Filter rating eksplisit (nilai > 0)\n",
        "explicit_ratings = rating_df[rating_df['rating'] > 0]"
      ]
    },
    {
      "cell_type": "markdown",
      "id": "d89a8bbf",
      "metadata": {
        "id": "d89a8bbf"
      },
      "source": [
        "Menghitung jumlah rating per pengguna dan per anime. Memfilter dataset untuk hanya menyertakan pengguna yang memberikan minimal 5 rating dan anime yang menerima minimal 5 rating."
      ]
    },
    {
      "cell_type": "code",
      "execution_count": 23,
      "id": "b5a62861",
      "metadata": {
        "id": "b5a62861"
      },
      "outputs": [],
      "source": [
        "# Hitung jumlah rating per pengguna dan per anime\n",
        "user_counts = explicit_ratings['user_id'].value_counts()\n",
        "anime_counts = explicit_ratings['anime_id'].value_counts()\n",
        "\n",
        "# Filter pengguna dan anime yang memiliki minimal 5 interaksi\n",
        "min_user_ratings = 5\n",
        "min_anime_ratings = 5\n",
        "\n",
        "user_filtered = user_counts[user_counts >= min_user_ratings].index\n",
        "anime_filtered = anime_counts[anime_counts >= min_anime_ratings].index\n",
        "\n",
        "# Filter dataset berdasarkan pengguna dan anime yang sudah difilter\n",
        "filtered_ratings = explicit_ratings[\n",
        "    explicit_ratings['user_id'].isin(user_filtered) &\n",
        "    explicit_ratings['anime_id'].isin(anime_filtered)\n",
        "]"
      ]
    },
    {
      "cell_type": "markdown",
      "id": "801c391a",
      "metadata": {
        "id": "801c391a"
      },
      "source": [
        "### Mapping ID"
      ]
    },
    {
      "cell_type": "markdown",
      "id": "e5fe8b21",
      "metadata": {
        "id": "e5fe8b21"
      },
      "source": [
        "Membuat mapping antara **user_id** dan **anime_id** dengan indeks numerik (0, 1, 2, ...) untuk mempermudah pembuatan matriks dan komputasi dalam model. Juga membuat mapping sebaliknya untuk konversi kembali dari indeks ke ID asli."
      ]
    },
    {
      "cell_type": "code",
      "execution_count": 24,
      "id": "f3d40ab2",
      "metadata": {
        "id": "f3d40ab2",
        "outputId": "c67c4aec-affc-4d99-cf14-3b0eba29225d"
      },
      "outputs": [
        {
          "name": "stderr",
          "output_type": "stream",
          "text": [
            "C:\\Users\\Lenovo\\AppData\\Local\\Temp\\ipykernel_25272\\3311408048.py:10: SettingWithCopyWarning: \n",
            "A value is trying to be set on a copy of a slice from a DataFrame.\n",
            "Try using .loc[row_indexer,col_indexer] = value instead\n",
            "\n",
            "See the caveats in the documentation: https://pandas.pydata.org/pandas-docs/stable/user_guide/indexing.html#returning-a-view-versus-a-copy\n",
            "  filtered_ratings['user_idx'] = filtered_ratings['user_id'].map(user_to_idx)\n",
            "C:\\Users\\Lenovo\\AppData\\Local\\Temp\\ipykernel_25272\\3311408048.py:11: SettingWithCopyWarning: \n",
            "A value is trying to be set on a copy of a slice from a DataFrame.\n",
            "Try using .loc[row_indexer,col_indexer] = value instead\n",
            "\n",
            "See the caveats in the documentation: https://pandas.pydata.org/pandas-docs/stable/user_guide/indexing.html#returning-a-view-versus-a-copy\n",
            "  filtered_ratings['anime_idx'] = filtered_ratings['anime_id'].map(anime_to_idx)\n"
          ]
        }
      ],
      "source": [
        "# Buat mapping untuk user_id dan anime_id\n",
        "user_to_idx = {user: idx for idx, user in enumerate(filtered_ratings['user_id'].unique())}\n",
        "anime_to_idx = {anime: idx for idx, anime in enumerate(filtered_ratings['anime_id'].unique())}\n",
        "\n",
        "# Buat mapping sebaliknya untuk konversi balik\n",
        "idx_to_user = {idx: user for user, idx in user_to_idx.items()}\n",
        "idx_to_anime = {idx: anime for anime, idx in anime_to_idx.items()}\n",
        "\n",
        "# Konversi user_id dan anime_id ke indeks\n",
        "filtered_ratings['user_idx'] = filtered_ratings['user_id'].map(user_to_idx)\n",
        "filtered_ratings['anime_idx'] = filtered_ratings['anime_id'].map(anime_to_idx)"
      ]
    },
    {
      "cell_type": "markdown",
      "id": "5e868f12",
      "metadata": {
        "id": "5e868f12"
      },
      "source": [
        "### Splitting Data"
      ]
    },
    {
      "cell_type": "markdown",
      "id": "18d1539d",
      "metadata": {
        "id": "18d1539d"
      },
      "source": [
        "Membagi dataset **rating** yang sudah difilter menjadi data training (80%) dan testing (20%) menggunakan stratified sampling berdasarkan nilai **rating** untuk memastikan distribusi rating dalam data training dan testing tetap konsisten."
      ]
    },
    {
      "cell_type": "code",
      "execution_count": 25,
      "id": "92a04212",
      "metadata": {
        "id": "92a04212"
      },
      "outputs": [],
      "source": [
        "# Split data menjadi training dan testing\n",
        "train_data, test_data = train_test_split(\n",
        "    filtered_ratings,\n",
        "    test_size=0.2,\n",
        "    random_state=42,\n",
        "    stratify=filtered_ratings['rating']  # Stratify berdasarkan nilai rating\n",
        ")"
      ]
    },
    {
      "cell_type": "markdown",
      "id": "132e1519",
      "metadata": {
        "id": "132e1519"
      },
      "source": [
        "### Normalisasi Rating"
      ]
    },
    {
      "cell_type": "markdown",
      "id": "c3ad3441",
      "metadata": {
        "id": "c3ad3441"
      },
      "source": [
        "Menormalisasi rating dengan mengurangkan rata-rata rating pengguna dari setiap rating yang diberikan. Hal ini membantu mengatasi bias pengguna, seperti pengguna yang cenderung memberikan rating tinggi atau rendah secara konsisten."
      ]
    },
    {
      "cell_type": "code",
      "execution_count": 26,
      "id": "1e7f3d8d",
      "metadata": {
        "id": "1e7f3d8d"
      },
      "outputs": [],
      "source": [
        "# Hitung rata-rata rating per pengguna\n",
        "user_mean = train_data.groupby('user_idx')['rating'].mean()\n",
        "\n",
        "# Fungsi untuk normalisasi\n",
        "def normalize_ratings(df):\n",
        "    df_copy = df.copy()\n",
        "    for user in df_copy['user_idx'].unique():\n",
        "        if user in user_mean:\n",
        "            user_mask = df_copy['user_idx'] == user\n",
        "            df_copy.loc[user_mask, 'normalized_rating'] = df_copy.loc[user_mask, 'rating'] - user_mean[user]\n",
        "    return df_copy\n",
        "\n",
        "# Normalisasi data training dan testing\n",
        "train_data = normalize_ratings(train_data)\n",
        "test_data = normalize_ratings(test_data)\n"
      ]
    },
    {
      "cell_type": "markdown",
      "id": "3414ea3f",
      "metadata": {
        "id": "3414ea3f"
      },
      "source": [
        "## Modelling and Result"
      ]
    },
    {
      "cell_type": "markdown",
      "id": "3b41cf04",
      "metadata": {
        "id": "3b41cf04"
      },
      "source": [
        "### Pre-komputasi Matriks untuk Efisiensi"
      ]
    },
    {
      "cell_type": "markdown",
      "id": "e9c1e634",
      "metadata": {},
      "source": [
        "Melakukan pre-komputasi matriks **user-item**, matriks kesamaan antar pengguna, dan matriks kesamaan antar anime untuk meningkatkan efisiensi ketika melakukan prediksi. Hal ini untuk menghindari perhitungan matriks berulang kali setiap kali fungsi rekomendasi dipanggil."
      ]
    },
    {
      "cell_type": "code",
      "execution_count": 27,
      "id": "c751cb54",
      "metadata": {},
      "outputs": [],
      "source": [
        "# Pre-compute the user-item matrix once for efficiency\n",
        "def build_user_item_matrix():\n",
        "    # Create user-item matrix from training data\n",
        "    user_item_matrix = pd.pivot_table(\n",
        "        train_data,\n",
        "        values='rating',\n",
        "        index='user_idx',\n",
        "        columns='anime_idx',\n",
        "        fill_value=0\n",
        "    )\n",
        "    return user_item_matrix\n",
        "\n",
        "# Build the matrix\n",
        "user_item_matrix = build_user_item_matrix()\n",
        "\n",
        "# Calculate user similarity once\n",
        "user_similarity = cosine_similarity(user_item_matrix)\n",
        "\n",
        "# Get item-item similarity matrix\n",
        "item_user_matrix = user_item_matrix.T\n",
        "item_similarity = cosine_similarity(item_user_matrix)"
      ]
    },
    {
      "cell_type": "markdown",
      "id": "3eb3a68b",
      "metadata": {
        "id": "3eb3a68b"
      },
      "source": [
        "### User-based Collaborative Filtering"
      ]
    },
    {
      "cell_type": "markdown",
      "id": "a6d47a70",
      "metadata": {},
      "source": [
        "Kita membuat fungsi untuk menghasilkan rekomendasi anime menggunakan metode **User-based Collaborative Filtering**. Fungsi ini bekerja dengan terlebih dahulu memvalidasi keberadaan user ID dalam dataset dan menampilkan anime-anime dengan rating tertinggi dari pengguna tersebut sebagai gambaran preferensi. Setelah itu, fungsi akan menghitung **similarity score** antara pengguna target dengan semua pengguna lain dalam sistem menggunakan matriks **user-item** yang telah dibuat sebelumnya. Untuk setiap anime yang belum pernah diberi rating oleh pengguna target, fungsi akan memprediksi rating dengan menghitung **weighted average** dari rating yang diberikan pengguna-pengguna serupa, di mana bobot ditentukan berdasarkan tingkat kesamaan antar pengguna. Hasil prediksi kemudian diurutkan berdasarkan rating tertinggi dan fungsi akan mengembalikan N rekomendasi teratas sesuai dengan parameter yang telah ditentukan.Kita membuat fungsi untuk menghasilkan rekomendasi anime menggunakan metode **User-based Collaborative Filtering**. Fungsi ini bekerja dengan terlebih dahulu memvalidasi keberadaan user ID dalam dataset dan menampilkan anime-anime dengan rating tertinggi dari pengguna tersebut sebagai gambaran preferensi. Setelah itu, fungsi akan menghitung **similarity score** antara pengguna target dengan semua pengguna lain dalam sistem menggunakan matriks **user-item** yang telah dibuat sebelumnya. Untuk setiap anime yang belum pernah diberi rating oleh pengguna target, fungsi akan memprediksi rating dengan menghitung **weighted average** dari rating yang diberikan pengguna-pengguna serupa, di mana bobot ditentukan berdasarkan tingkat kesamaan antar pengguna. Hasil prediksi kemudian diurutkan berdasarkan rating tertinggi dan fungsi akan mengembalikan N rekomendasi teratas sesuai dengan parameter yang telah ditentukan.\n"
      ]
    },
    {
      "cell_type": "code",
      "execution_count": 28,
      "id": "e6119242",
      "metadata": {},
      "outputs": [],
      "source": [
        "def get_user_based_recommendations(user_id, n_recommendations=10):\n",
        "    # Cek apakah user_id ada dalam dataset\n",
        "    if user_id not in user_to_idx:\n",
        "        print(f\"User ID {user_id} tidak ditemukan dalam dataset.\")\n",
        "        return None\n",
        "\n",
        "    user_idx = user_to_idx[user_id]\n",
        "\n",
        "    # Ambil anime-anime yang sudah diberi rating oleh user\n",
        "    user_rated_anime = filtered_ratings[filtered_ratings['user_id'] == user_id]\n",
        "\n",
        "    # Tampilkan anime-anime dengan rating tinggi dari user\n",
        "    print(f'Menampilkan rekomendasi User-based CF untuk user: {user_id}\\n')\n",
        "    print('===' * 13)\n",
        "    print('Anime dengan rating tinggi dari pengguna')\n",
        "    print('----' * 10)\n",
        "\n",
        "    # Ambil 5 anime teratas yang diberi rating tertinggi oleh user\n",
        "    top_anime_by_user = (\n",
        "        user_rated_anime.sort_values(\n",
        "            by='rating',\n",
        "            ascending=False\n",
        "        )\n",
        "        .head(5)\n",
        "    )\n",
        "\n",
        "    # Ambil detail anime berdasarkan anime_id\n",
        "    top_rated_anime_ids = top_anime_by_user['anime_id'].values\n",
        "    top_rated_anime = anime_df[anime_df['anime_id'].isin(top_rated_anime_ids)]\n",
        "\n",
        "    # Tampilkan informasi anime-anime dengan rating tertinggi\n",
        "    for _, row in top_rated_anime.iterrows():\n",
        "        print(f\"{row['name']} : Rating {top_anime_by_user[top_anime_by_user['anime_id'] == row['anime_id']]['rating'].values[0]}\")\n",
        "\n",
        "    print('\\n')\n",
        "    print('----' * 7)\n",
        "    print(f'{n_recommendations} Rekomendasi Anime Teratas (User-based CF)')\n",
        "    print('----' * 7)\n",
        "\n",
        "    # Buat user-item matrix dari data training\n",
        "    user_item_matrix = pd.pivot_table(\n",
        "        train_data,\n",
        "        values='rating',\n",
        "        index='user_idx',\n",
        "        columns='anime_idx',\n",
        "        fill_value=0\n",
        "    )\n",
        "\n",
        "    # Hitung similarity antar user (cosine similarity)\n",
        "    user_similarity = cosine_similarity(user_item_matrix)\n",
        "\n",
        "    # Dapatkan similarity score pengguna target dengan semua pengguna lain\n",
        "    user_sim_scores = user_similarity[user_idx]\n",
        "\n",
        "    # Filter anime yang sudah diberi rating oleh pengguna target\n",
        "    rated_items = user_rated_anime['anime_id'].tolist()\n",
        "\n",
        "    # Dapatkan prediksi rating untuk semua anime yang belum diberi rating\n",
        "    predicted_ratings = {}\n",
        "\n",
        "    for anime_idx in range(len(anime_to_idx)):\n",
        "        if anime_idx not in rated_items:\n",
        "            # Dapatkan rating dari semua pengguna untuk anime ini\n",
        "            item_ratings = user_item_matrix.iloc[:, anime_idx]\n",
        "\n",
        "            # Hitung weighted rating berdasarkan user similarity\n",
        "            numerator = np.sum(item_ratings * user_sim_scores)\n",
        "            denominator = np.sum(np.abs(user_sim_scores) * (item_ratings != 0))\n",
        "\n",
        "            if denominator != 0:\n",
        "                predicted_ratings[anime_idx] = numerator / denominator\n",
        "\n",
        "    # Sorting berdasarkan predicted rating\n",
        "    sorted_predictions = sorted(predicted_ratings.items(), key=lambda x: x[1], reverse=True)\n",
        "\n",
        "    # Ambil top N rekomendasi\n",
        "    top_n_items = [idx_to_anime[item[0]] for item in sorted_predictions[:n_recommendations]]\n",
        "\n",
        "    # Dapatkan informasi anime\n",
        "    recommended_anime = anime_df[anime_df['anime_id'].isin(top_n_items)]\n",
        "\n",
        "    # Tampilkan daftar anime rekomendasi\n",
        "    for _, row in recommended_anime.iterrows():\n",
        "        print(f\"{row['name']}\")\n",
        "\n",
        "    return recommended_anime[['anime_id', 'name', 'genre']]\n"
      ]
    },
    {
      "cell_type": "markdown",
      "id": "d84545df",
      "metadata": {
        "id": "d84545df"
      },
      "source": [
        "### Item-based Collaborative Filtering"
      ]
    },
    {
      "cell_type": "markdown",
      "id": "58ba99f5",
      "metadata": {
        "id": "58ba99f5"
      },
      "source": [
        "Kita membuat fungsi untuk menghasilkan rekomendasi anime menggunakan metode **Item-based Collaborative Filtering**. Fungsi ini dimulai dengan memvalidasi keberadaan **user ID** dalam dataset dan menampilkan anime-anime dengan rating tertinggi dari pengguna tersebut untuk memberikan gambaran tentang preferensi pengguna. Berbeda dengan **user-based CF**, metode ini berfokus pada kesamaan antar item atau anime. Fungsi akan mengidentifikasi anime-anime yang telah diberi rating oleh pengguna target, kemudian untuk setiap anime yang belum pernah diberi rating, sistem akan menghitung prediksi rating berdasarkan kesamaan dengan anime-anime yang sudah pernah dirating sebelumnya. Perhitungan dilakukan dengan menggunakan **weighted average** dari rating yang telah diberikan pengguna pada anime-anime serupa, di mana bobot ditentukan oleh tingkat kesamaan antar anime menggunakan matriks similarity yang telah dihitung sebelumnya. Hasil prediksi kemudian diurutkan berdasarkan nilai tertinggi dan fungsi akan mengembalikan N rekomendasi anime teratas sesuai parameter yang ditentukan."
      ]
    },
    {
      "cell_type": "code",
      "execution_count": 29,
      "id": "e4dd41d0",
      "metadata": {
        "id": "e4dd41d0"
      },
      "outputs": [],
      "source": [
        "def get_item_based_recommendations(user_id, n=10):\n",
        "    # Cek apakah user_id ada di dalam dataset\n",
        "    if user_id not in user_to_idx:\n",
        "        print(f\"User ID {user_id} tidak ditemukan dalam dataset.\")\n",
        "        return None\n",
        "\n",
        "    user_idx = user_to_idx[user_id]\n",
        "\n",
        "    # Ambil anime-anime yang sudah diberi rating oleh user\n",
        "    user_rated_anime = filtered_ratings[filtered_ratings['user_id'] == user_id]\n",
        "\n",
        "    # Tampilkan anime-anime dengan rating tinggi dari user\n",
        "    print(f'Menampilkan rekomendasi Item-based CF untuk user: {user_id}\\n')\n",
        "    print('===' * 13)\n",
        "    print('Anime dengan rating tinggi dari pengguna')\n",
        "    print('----' * 10)\n",
        "\n",
        "    # Ambil 5 anime teratas yang diberi rating tertinggi oleh user\n",
        "    top_anime_by_user = (\n",
        "        user_rated_anime.sort_values(\n",
        "            by='rating',\n",
        "            ascending=False\n",
        "        )\n",
        "        .head(5)\n",
        "    )\n",
        "\n",
        "    # Ambil detail anime berdasarkan anime_id\n",
        "    top_rated_anime_ids = top_anime_by_user['anime_id'].values\n",
        "    top_rated_anime = anime_df[anime_df['anime_id'].isin(top_rated_anime_ids)]\n",
        "\n",
        "    # Tampilkan informasi anime-anime dengan rating tertinggi\n",
        "    for _, row in top_rated_anime.iterrows():\n",
        "        print(f\"{row['name']} : Rating {top_anime_by_user[top_anime_by_user['anime_id'] == row['anime_id']]['rating'].values[0]}\")\n",
        "\n",
        "    print('\\n')\n",
        "    print('----' * 7)\n",
        "    print(f'{n} Rekomendasi Anime Teratas (Item-based CF)')\n",
        "    print('----' * 7)\n",
        "\n",
        "    # Dapatkan anime yang telah dirating oleh pengguna target\n",
        "    user_ratings = filtered_ratings[filtered_ratings['user_id'] == user_idx]\n",
        "\n",
        "    # Hitung skor prediksi untuk semua anime yang belum dirating\n",
        "    all_items = set(range(len(anime_to_idx)))\n",
        "    rated_items = set(user_ratings['anime_id'].tolist())\n",
        "    unrated_items = all_items - rated_items\n",
        "\n",
        "    predictions = {}\n",
        "    for item_idx in unrated_items:\n",
        "        if item_idx in item_user_matrix.index:\n",
        "            weighted_sum = 0\n",
        "            similarity_sum = 0\n",
        "\n",
        "            for _, row in user_ratings.iterrows():\n",
        "                rated_item_idx = row['anime_id']\n",
        "                rating = row['rating']\n",
        "\n",
        "                if rated_item_idx in item_user_matrix.index:\n",
        "                    # Get position dalam similarity matrix\n",
        "                    item_pos = item_user_matrix.index.get_loc(item_idx)\n",
        "                    rated_item_pos = item_user_matrix.index.get_loc(rated_item_idx)\n",
        "\n",
        "                    # Similarity antara anime yang belum dirating dengan anime yang sudah dirating\n",
        "                    sim = item_similarity[item_pos, rated_item_pos]\n",
        "\n",
        "                    weighted_sum += sim * rating\n",
        "                    similarity_sum += abs(sim)\n",
        "\n",
        "            if similarity_sum > 0:\n",
        "                predictions[item_idx] = weighted_sum / similarity_sum\n",
        "\n",
        "    # Sorting prediksi\n",
        "    sorted_predictions = sorted(predictions.items(), key=lambda x: x[1], reverse=True)\n",
        "\n",
        "    # Ambil top N rekomendasi\n",
        "    top_n_items = [idx_to_anime[item[0]] for item in sorted_predictions[:n]]\n",
        "\n",
        "    # Dapatkan informasi anime\n",
        "    recommended_anime = anime_df[anime_df['anime_id'].isin(top_n_items)]\n",
        "\n",
        "    # Tampilkan daftar anime rekomendasi\n",
        "    for _, row in recommended_anime.iterrows():\n",
        "        print(f\"{row['name']}\")\n",
        "\n",
        "    return recommended_anime[['anime_id', 'name', 'genre']]\n"
      ]
    },
    {
      "cell_type": "markdown",
      "id": "92ebdc03",
      "metadata": {},
      "source": [
        "### Matrix Factorization dengan SVD"
      ]
    },
    {
      "cell_type": "markdown",
      "id": "9e4086e4",
      "metadata": {},
      "source": [
        "Implementasi pendekatan **Matrix Factorization** menggunakan algoritma **SVD (Singular Value Decomposition)** dengan mengkonversi data rating ke format yang dapat diproses oleh library **Surprise**, membagi data menjadi training dan testing set, melatih model SVD dengan 100 faktor laten selama 20 epoch, dan membuat fungsi untuk mendapatkan rekomendasi menggunakan model SVD terlatih."
      ]
    },
    {
      "cell_type": "code",
      "execution_count": 37,
      "id": "157fdce2",
      "metadata": {},
      "outputs": [],
      "source": [
        "# Konversi data ke format yang dapat digunakan oleh Surprise\n",
        "reader = Reader(rating_scale=(0, 10))  # Skala rating 0 hingga 10\n",
        "data = Dataset.load_from_df(filtered_ratings[['user_idx', 'anime_idx', 'rating']], reader)\n",
        "\n",
        "# Split data\n",
        "trainset, testset = surprise_train_test_split(data, test_size=0.2, random_state=42)\n",
        "\n",
        "# Training model SVD\n",
        "svd_model = SVD(n_factors=100, n_epochs=20, lr_all=0.005, reg_all=0.02)\n",
        "svd_model.fit(trainset)\n",
        "\n",
        "# Fungsi untuk mendapatkan rekomendasi menggunakan SVD\n",
        "def svd_recommendations(user_id, n_recommendations=10):\n",
        "    # Konversi user_id ke user_idx\n",
        "    if user_id not in user_to_idx:\n",
        "        return \"User tidak ditemukan dalam dataset\"\n",
        "\n",
        "    user_idx = user_to_idx[user_id]\n",
        "\n",
        "    # Dapatkan item yang telah dirating oleh pengguna\n",
        "    rated_items = set(train_data[train_data['user_idx'] == user_idx]['anime_idx'].tolist())\n",
        "\n",
        "    # Semua item yang tersedia\n",
        "    all_items = set(anime_to_idx.values())\n",
        "\n",
        "    # Item yang belum dirating\n",
        "    unrated_items = all_items - rated_items\n",
        "\n",
        "    # Prediksi rating untuk item yang belum dirating\n",
        "    predictions = [(item_idx, svd_model.predict(user_idx, item_idx).est)\n",
        "                for item_idx in unrated_items]\n",
        "\n",
        "    # Sorting prediksi\n",
        "    predictions.sort(key=lambda x: x[1], reverse=True)\n",
        "\n",
        "    # Ambil top N rekomendasi\n",
        "    top_n_items = [idx_to_anime[item[0]] for item in predictions[:n_recommendations]]\n",
        "\n",
        "    # Dapatkan informasi anime\n",
        "    recommended_anime = anime_df[anime_df['anime_id'].isin(top_n_items)]\n",
        "\n",
        "    return recommended_anime[['anime_id', 'name', 'genre']]\n"
      ]
    },
    {
      "cell_type": "markdown",
      "id": "925f3f0e",
      "metadata": {
        "id": "925f3f0e"
      },
      "source": [
        "### SVD"
      ]
    },
    {
      "cell_type": "markdown",
      "id": "9b8e6b65",
      "metadata": {
        "id": "9b8e6b65"
      },
      "source": [
        "Kita membuat fungsi untuk menghasilkan rekomendasi anime menggunakan model SVD yang telah terbukti optimal. Fungsi ini bekerja dengan terlebih dahulu mengecek validitas user ID dalam dataset, kemudian menampilkan anime-anime dengan rating tertinggi dari pengguna tersebut sebagai referensi preferensi. Setelah itu, fungsi akan mengidentifikasi anime-anime yang belum diberi rating oleh pengguna dan memprediksi rating untuk anime-anime tersebut menggunakan model SVD. Pada tahap akhir, hasil prediksi akan diurutkan berdasarkan rating tertinggi dan mengembalikan N rekomendasi teratas sesuai dengan parameter yang ditentukan."
      ]
    },
    {
      "cell_type": "code",
      "execution_count": 38,
      "id": "4780a2a7",
      "metadata": {
        "id": "4780a2a7"
      },
      "outputs": [],
      "source": [
        "def get_top_anime_recommendations(user_id, n=10):\n",
        "    # Cek apakah user_id ada di dalam dataset\n",
        "    if user_id not in user_to_idx:\n",
        "        print(f\"User ID {user_id} tidak ditemukan dalam dataset.\")\n",
        "        return None\n",
        "\n",
        "    user_idx = user_to_idx[user_id]\n",
        "\n",
        "    # Ambil anime-anime yang sudah diberi rating oleh user\n",
        "    user_rated_anime = filtered_ratings[filtered_ratings['user_id'] == user_id]\n",
        "\n",
        "    # Tampilkan anime-anime dengan rating tinggi dari user\n",
        "    print(f'Menampilkan rekomendasi untuk user: {user_id}\\n')\n",
        "    print('===' * 13)\n",
        "    print('Anime dengan rating tinggi dari pengguna')\n",
        "    print('----' * 10)\n",
        "\n",
        "    # Ambil 5 anime teratas yang diberi rating tertinggi oleh user\n",
        "    top_anime_by_user = (\n",
        "        user_rated_anime.sort_values(\n",
        "            by='rating',\n",
        "            ascending=False\n",
        "        )\n",
        "        .head(5)\n",
        "    )\n",
        "\n",
        "    # Ambil detail anime berdasarkan anime_id\n",
        "    top_rated_anime_ids = top_anime_by_user['anime_id'].values\n",
        "    top_rated_anime = anime_df[anime_df['anime_id'].isin(top_rated_anime_ids)]\n",
        "\n",
        "    # Tampilkan informasi anime-anime dengan rating tertinggi\n",
        "    for _, row in top_rated_anime.iterrows():\n",
        "        print(f\"{row['name']} : Rating {top_anime_by_user[top_anime_by_user['anime_id'] == row['anime_id']]['rating'].values[0]}\")\n",
        "\n",
        "    print('\\n')\n",
        "    print('----' * 7)\n",
        "    print(f'{n} Rekomendasi Anime Teratas')\n",
        "    print('----' * 7)\n",
        "\n",
        "    # Ambil anime-anime yang belum dirating oleh user\n",
        "    rated_items = set(user_rated_anime['anime_id'].tolist())\n",
        "    all_items = set(anime_to_idx.values())\n",
        "    unrated_items = all_items - rated_items\n",
        "\n",
        "    # Prediksi rating untuk anime-anime yang belum dirating\n",
        "    predictions = []\n",
        "    for item_idx in unrated_items:\n",
        "        predicted_rating = svd_model.predict(user_idx, item_idx).est\n",
        "        predictions.append((item_idx, predicted_rating))\n",
        "\n",
        "    # Urutkan berdasarkan prediksi rating tertinggi, ambil N teratas\n",
        "    predictions.sort(key=lambda x: x[1], reverse=True)\n",
        "    top_ratings_indices = [prediction[0] for prediction in predictions[:n]]\n",
        "\n",
        "    # Konversi kembali index ke anime_id\n",
        "    recommended_anime_ids = [idx_to_anime[idx] for idx in top_ratings_indices]\n",
        "\n",
        "    # Ambil detail anime dari anime_id hasil rekomendasi\n",
        "    recommended_anime = anime_df[anime_df['anime_id'].isin(recommended_anime_ids)]\n",
        "\n",
        "    # Tampilkan daftar anime rekomendasi\n",
        "    for _, row in recommended_anime.iterrows():\n",
        "        print(f\"{row['name']}\")\n",
        "\n",
        "    return recommended_anime[['anime_id', 'name', 'genre']]\n"
      ]
    },
    {
      "cell_type": "markdown",
      "id": "ec012e08",
      "metadata": {
        "id": "ec012e08"
      },
      "source": [
        "### Fungsi Prediksi"
      ]
    },
    {
      "cell_type": "markdown",
      "id": "58ac8ff0",
      "metadata": {
        "id": "58ac8ff0"
      },
      "source": [
        "Implementasi dua fungsi prediksi yang lebih efisien untuk model **user-based** dan **item-based**:\n",
        "\n",
        "- **User-based prediction**: Memprediksi rating untuk pasangan **user-item** berdasarkan kesamaan pengguna.\n",
        "- **Item-based prediction**: Memprediksi rating untuk pasangan **user-item** berdasarkan kesamaan item.\n",
        "\n",
        "Kedua fungsi ini menggunakan matriks yang sudah dikomputasi sebelumnya untuk menghindari perhitungan ulang dan meningkatkan efisiensi."
      ]
    },
    {
      "cell_type": "code",
      "execution_count": 39,
      "id": "bc9a08cb",
      "metadata": {
        "id": "bc9a08cb"
      },
      "outputs": [],
      "source": [
        "# User-based prediction function - predicts rating for a specific user-item pair\n",
        "def user_based_prediction(user_idx, item_idx):\n",
        "    # Check if user and item indices are in the matrix\n",
        "    if user_idx not in user_item_matrix.index or item_idx not in user_item_matrix.columns:\n",
        "        return None  # User or item not in training data\n",
        "\n",
        "    # Get the index position of the user in the matrix\n",
        "    user_pos = user_item_matrix.index.get_loc(user_idx)\n",
        "\n",
        "    # Get similarity scores of target user with all other users\n",
        "    user_sim_scores = user_similarity[user_pos]\n",
        "\n",
        "    # Get ratings for the target item from all users\n",
        "    item_col = user_item_matrix.columns.get_loc(item_idx)\n",
        "    item_ratings = user_item_matrix.iloc[:, item_col]\n",
        "\n",
        "    # Filter out users who haven't rated the item\n",
        "    mask = item_ratings != 0\n",
        "    if not any(mask):\n",
        "        return None  # No user has rated this item\n",
        "\n",
        "    # Calculate weighted rating based on user similarity\n",
        "    numerator = np.sum(item_ratings[mask].values * user_sim_scores[mask])\n",
        "    denominator = np.sum(np.abs(user_sim_scores[mask]))\n",
        "\n",
        "    if denominator == 0:\n",
        "        return None\n",
        "\n",
        "    return numerator / denominator"
      ]
    },
    {
      "cell_type": "code",
      "execution_count": 40,
      "id": "71c6e3b8",
      "metadata": {
        "id": "71c6e3b8"
      },
      "outputs": [],
      "source": [
        "# Item-based prediction function - predicts rating for a specific user-item pair\n",
        "def item_based_prediction(user_idx, item_idx):\n",
        "    # Check if user and item indices are in the matrix\n",
        "    if user_idx not in user_item_matrix.index or item_idx not in user_item_matrix.columns:\n",
        "        return None  # User or item not in training data\n",
        "\n",
        "    # Get user's ratings\n",
        "    user_ratings = train_data[train_data['user_idx'] == user_idx]\n",
        "\n",
        "    # Get items rated by the target user\n",
        "    user_rated_items = user_ratings['anime_idx'].tolist()\n",
        "\n",
        "    if not user_rated_items:\n",
        "        return None  # User hasn't rated any items\n",
        "\n",
        "    # Get position of the target item in the similarity matrix\n",
        "    item_pos = item_user_matrix.index.get_loc(item_idx)\n",
        "\n",
        "    weighted_sum = 0\n",
        "    similarity_sum = 0\n",
        "\n",
        "    for rated_item_idx in user_rated_items:\n",
        "        if rated_item_idx not in item_user_matrix.index:\n",
        "            continue\n",
        "\n",
        "        # Get rating given by user to this item\n",
        "        rating = user_ratings[user_ratings['anime_idx'] == rated_item_idx]['rating'].values[0]\n",
        "\n",
        "        # Get position of the rated item in the similarity matrix\n",
        "        rated_item_pos = item_user_matrix.index.get_loc(rated_item_idx)\n",
        "\n",
        "        # Get similarity between current item and target item\n",
        "        sim = item_similarity[item_pos, rated_item_pos]\n",
        "\n",
        "        weighted_sum += sim * rating\n",
        "        similarity_sum += abs(sim)\n",
        "\n",
        "    if similarity_sum == 0:\n",
        "        return None\n",
        "\n",
        "    return weighted_sum / similarity_sum"
      ]
    },
    {
      "cell_type": "markdown",
      "id": "1074449e",
      "metadata": {
        "id": "1074449e"
      },
      "source": [
        "### Rekomendasi Berdasarkan Popularitas"
      ]
    },
    {
      "cell_type": "markdown",
      "id": "42bbc5f6",
      "metadata": {
        "id": "42bbc5f6"
      },
      "source": [
        "Membuat sistem rekomendasi berdasarkan popularitas anime dengan menghitung jumlah rating dan rata-rata rating untuk setiap anime. Filter diterapkan untuk hanya memasukkan anime yang memiliki minimal 10 rating agar hasil rekomendasi lebih dapat diandalkan. Anime kemudian diurutkan berdasarkan rating rata-rata tertinggi untuk memberikan rekomendasi anime terpopuler."
      ]
    },
    {
      "cell_type": "code",
      "execution_count": 41,
      "id": "5b86c726",
      "metadata": {
        "id": "5b86c726"
      },
      "outputs": [],
      "source": [
        "def popularity_based_recommendations(n_recommendations=10):\n",
        "    # Hitung jumlah rating per anime dan rata-rata rating\n",
        "    anime_stats = filtered_ratings.groupby('anime_id').agg({\n",
        "        'rating': ['count', 'mean']\n",
        "    })\n",
        "\n",
        "    anime_stats.columns = ['rating_count', 'rating_mean']\n",
        "    anime_stats = anime_stats.reset_index()\n",
        "\n",
        "    # Filter anime dengan minimal 10 rating untuk mendapatkan rekomendasi yang lebih reliable\n",
        "    popular_anime = anime_stats[anime_stats['rating_count'] >= 10]\n",
        "\n",
        "    # Sorting berdasarkan rating rata-rata (untuk anime dengan jumlah rating yang cukup)\n",
        "    popular_anime = popular_anime.sort_values(by='rating_mean', ascending=False)\n",
        "\n",
        "    # Ambil top N anime\n",
        "    top_anime = popular_anime.head(n_recommendations)['anime_id'].tolist()\n",
        "\n",
        "    # Dapatkan informasi anime\n",
        "    recommended_anime = anime_df[anime_df['anime_id'].isin(top_anime)]\n",
        "\n",
        "    return recommended_anime[['anime_id', 'name', 'genre']]\n"
      ]
    },
    {
      "cell_type": "markdown",
      "id": "2dbbb54b",
      "metadata": {
        "id": "2dbbb54b"
      },
      "source": [
        "### Testing semua model untuk user yang sama"
      ]
    },
    {
      "cell_type": "markdown",
      "id": "d8587031",
      "metadata": {
        "id": "d8587031"
      },
      "source": [
        "Kita membuat fungsi untuk membandingkan hasil rekomendasi dari ketiga model sistem rekomendasi yang telah dikembangkan, yaitu **SVD**, **User-based Collaborative Filtering**, dan **Item-based Collaborative Filtering**. Fungsi ini bekerja dengan menjalankan ketiga algoritma rekomendasi secara berurutan untuk pengguna yang sama, sehingga memungkinkan kita untuk melihat perbedaan hasil rekomendasi yang diberikan oleh masing-masing metode. Dengan memanggil setiap fungsi rekomendasi yang telah dibuat sebelumnya, fungsi ini akan menampilkan output dari ketiga model dalam format yang terstruktur dan mudah dibandingkan. Fungsi ini juga mengembalikan hasil rekomendasi dari ketiga model dalam bentuk DataFrame, sehingga dapat digunakan untuk analisis lebih lanjut atau evaluasi performa relatif antar model dalam memberikan rekomendasi yang relevan untuk pengguna tertentu."
      ]
    },
    {
      "cell_type": "code",
      "execution_count": 42,
      "id": "df30dab2",
      "metadata": {
        "id": "df30dab2"
      },
      "outputs": [],
      "source": [
        "def compare_all_recommendations(user_id, n=10):\n",
        "    print(f\"PERBANDINGAN REKOMENDASI UNTUK USER {user_id}\")\n",
        "    print(\"=\" * 60)\n",
        "\n",
        "    # Test SVD\n",
        "    print(\"\\n1. SVD MODEL:\")\n",
        "    print(\"-\" * 30)\n",
        "    svd_recs = get_top_anime_recommendations(user_id, n)\n",
        "\n",
        "    print(\"\\n\" + \"=\"*60)\n",
        "\n",
        "    # Test User-based CF\n",
        "    print(\"\\n2. USER-BASED COLLABORATIVE FILTERING:\")\n",
        "    print(\"-\" * 45)\n",
        "    user_recs = get_user_based_recommendations(user_id, n)\n",
        "\n",
        "    print(\"\\n\" + \"=\"*60)\n",
        "\n",
        "    # Test Item-based CF\n",
        "    print(\"\\n3. ITEM-BASED COLLABORATIVE FILTERING:\")\n",
        "    print(\"-\" * 45)\n",
        "    item_recs = get_item_based_recommendations(user_id, n)\n",
        "\n",
        "    return svd_recs, user_recs, item_recs"
      ]
    },
    {
      "cell_type": "code",
      "execution_count": 44,
      "id": "2bac1971",
      "metadata": {
        "id": "2bac1971",
        "outputId": "3432cd9e-4613-4d96-b047-21095dab9b69"
      },
      "outputs": [
        {
          "name": "stdout",
          "output_type": "stream",
          "text": [
            "TESTING SEMUA MODEL REKOMENDASI\n",
            "==================================================\n",
            "User yang dipilih secara random: 43074\n",
            "PERBANDINGAN REKOMENDASI UNTUK USER 43074\n",
            "============================================================\n",
            "\n",
            "1. SVD MODEL:\n",
            "------------------------------\n",
            "Menampilkan rekomendasi untuk user: 43074\n",
            "\n",
            "=======================================\n",
            "Anime dengan rating tinggi dari pengguna\n",
            "----------------------------------------\n",
            "Natsume Yuujinchou: Itsuka Yuki no Hi ni : Rating 9\n",
            "Evangelion: 1.0 You Are (Not) Alone : Rating 9\n",
            "Free!: Eternal Summer : Rating 9\n",
            "Love Stage!! OVA : Rating 8\n",
            "Love Stage!! : Rating 8\n",
            "\n",
            "\n",
            "----------------------------\n",
            "10 Rekomendasi Anime Teratas\n",
            "----------------------------\n",
            "Kimi no Na wa.\n",
            "Fullmetal Alchemist: Brotherhood\n",
            "Gintama°\n",
            "Steins;Gate\n",
            "Hunter x Hunter (2011)\n",
            "Ginga Eiyuu Densetsu\n",
            "Shigatsu wa Kimi no Uso\n",
            "Hajime no Ippo\n",
            "Mushishi Zoku Shou\n",
            "Neon Genesis Evangelion\n",
            "\n",
            "============================================================\n",
            "\n",
            "2. USER-BASED COLLABORATIVE FILTERING:\n",
            "---------------------------------------------\n",
            "Menampilkan rekomendasi User-based CF untuk user: 43074\n",
            "\n",
            "=======================================\n",
            "Anime dengan rating tinggi dari pengguna\n",
            "----------------------------------------\n",
            "Natsume Yuujinchou: Itsuka Yuki no Hi ni : Rating 9\n",
            "Evangelion: 1.0 You Are (Not) Alone : Rating 9\n",
            "Free!: Eternal Summer : Rating 9\n",
            "Love Stage!! OVA : Rating 8\n",
            "Love Stage!! : Rating 8\n",
            "\n",
            "\n",
            "----------------------------\n",
            "10 Rekomendasi Anime Teratas (User-based CF)\n",
            "----------------------------\n",
            "One Piece Film: Gold\n",
            "Taiyou no Ko Esteban\n",
            "Meitantei Holmes\n",
            "Saint Seiya: Soushuuhen\n",
            "Sayonara Ginga Tetsudou 999: Andromeda Shuuchakueki\n",
            "El Hazard: The Magnificent World\n",
            "Kyoro-chan\n",
            "Pokemon the Movie XY&amp;Z: Volcanion to Karakuri no Magiana\n",
            "Candy Candy (Movie)\n",
            "Time Bokan Series: Yattodetaman\n",
            "\n",
            "============================================================\n",
            "\n",
            "3. ITEM-BASED COLLABORATIVE FILTERING:\n",
            "---------------------------------------------\n",
            "Menampilkan rekomendasi Item-based CF untuk user: 43074\n",
            "\n",
            "=======================================\n",
            "Anime dengan rating tinggi dari pengguna\n",
            "----------------------------------------\n",
            "Natsume Yuujinchou: Itsuka Yuki no Hi ni : Rating 9\n",
            "Evangelion: 1.0 You Are (Not) Alone : Rating 9\n",
            "Free!: Eternal Summer : Rating 9\n",
            "Love Stage!! OVA : Rating 8\n",
            "Love Stage!! : Rating 8\n",
            "\n",
            "\n",
            "----------------------------\n",
            "10 Rekomendasi Anime Teratas (Item-based CF)\n",
            "----------------------------\n",
            "Unico\n",
            "Nils no Fushigi na Tabi (Movie)\n",
            "Hikari no Megami\n",
            "Saishuu Shiken Kujira Progressive\n",
            "Cutey Honey Flash: The Movie\n",
            "Gun-dou Musashi\n",
            "Shin Calimero\n",
            "Iczer-Girl Iczelion\n",
            "Hyper-Psychic Geo Garaga\n",
            "The Bathroom\n"
          ]
        }
      ],
      "source": [
        "# Testing dengan user random\n",
        "print(\"TESTING SEMUA MODEL REKOMENDASI\")\n",
        "print(\"=\" * 50)\n",
        "\n",
        "# Pilih user secara random\n",
        "random_user = random.choice(list(user_to_idx.keys()))\n",
        "print(f\"User yang dipilih secara random: {random_user}\")\n",
        "\n",
        "# Test semua model\n",
        "svd_results, user_results, item_results = compare_all_recommendations(random_user, n=10)"
      ]
    },
    {
      "cell_type": "markdown",
      "id": "3ac0f89f",
      "metadata": {
        "id": "3ac0f89f"
      },
      "source": [
        "## Evaluation"
      ]
    },
    {
      "cell_type": "markdown",
      "id": "834639d1",
      "metadata": {
        "id": "834639d1"
      },
      "source": [
        "### Evaluasi dengan RMSE dan MAE"
      ]
    },
    {
      "cell_type": "markdown",
      "id": "6276b1c1",
      "metadata": {
        "id": "6276b1c1"
      },
      "source": [
        "Evaluasi model dilakukan menggunakan metrik **RMSE** (Root Mean Square Error) dan **MAE** (Mean Absolute Error) untuk mengukur akurasi prediksi rating. Model **SVD** dievaluasi langsung menggunakan **Surprise library**, sementara untuk **User-based** dan **Item-based CF**, dibuat fungsi evaluasi khusus yang menangani kasus di mana prediksi tidak dapat dibuat dengan fallback ke global mean."
      ]
    },
    {
      "cell_type": "code",
      "execution_count": 45,
      "id": "81390ee1",
      "metadata": {
        "id": "81390ee1",
        "outputId": "18612a06-4009-469a-b35d-903c76d91340"
      },
      "outputs": [
        {
          "name": "stdout",
          "output_type": "stream",
          "text": [
            "RMSE: 1.2485\n",
            "MAE:  0.9521\n",
            "Evaluating SVD...\n",
            "SVD - RMSE: 1.2485\n",
            "SVD - MAE: 0.9521\n",
            "Evaluating User-based CF...\n",
            "RMSE: 1.7076\n",
            "MAE:  1.3457\n",
            "Evaluating Item-based CF...\n",
            "RMSE: 1.6805\n",
            "MAE:  1.3163\n",
            "\n",
            "Comparison of all models:\n",
            "SVD - RMSE: 1.2485, MAE: 0.9521\n",
            "User-based CF - RMSE: 1.7076, MAE: 1.3457\n",
            "Item-based CF - RMSE: 1.6805, MAE: 1.3163\n"
          ]
        }
      ],
      "source": [
        "# Evaluasi model SVD pada testset\n",
        "predictions_svd = svd_model.test(testset)\n",
        "rmse_svd = accuracy.rmse(predictions_svd)\n",
        "mae_svd = accuracy.mae(predictions_svd)\n",
        "\n",
        "print(\"Evaluating SVD...\")\n",
        "print(f\"SVD - RMSE: {rmse_svd:.4f}\")\n",
        "print(f\"SVD - MAE: {mae_svd:.4f}\")\n",
        "\n",
        "# Implementasi untuk mengevaluasi User-based CF\n",
        "def test_user_based_cf(testset):\n",
        "    predictions = []\n",
        "    for uid, iid, true_r in testset:\n",
        "        try:\n",
        "            # Check if user and item exist in our mappings\n",
        "            if uid in user_to_idx and iid in anime_to_idx:\n",
        "                user_idx = user_to_idx[uid]\n",
        "                item_idx = anime_to_idx[iid]\n",
        "                pred_r = user_based_prediction(user_idx, item_idx)\n",
        "            else:\n",
        "                pred_r = None\n",
        "        except Exception as e:\n",
        "            print(f\"Error predicting for user {uid}, item {iid}: {e}\")\n",
        "            pred_r = None\n",
        "\n",
        "        # Fall back to global mean if prediction is None\n",
        "        if pred_r is None:\n",
        "            pred_r = global_mean\n",
        "\n",
        "        predictions.append((uid, iid, true_r, pred_r, {'method': 'user_based_cf'}))\n",
        "\n",
        "    return predictions\n",
        "\n",
        "# Implementasi untuk mengevaluasi Item-based CF\n",
        "def test_item_based_cf(testset):\n",
        "    predictions = []\n",
        "    for uid, iid, true_r in testset:\n",
        "        try:\n",
        "            # Check if user and item exist in mappings\n",
        "            if uid in user_to_idx and iid in anime_to_idx:\n",
        "                user_idx = user_to_idx[uid]\n",
        "                item_idx = anime_to_idx[iid]\n",
        "                pred_r = item_based_prediction(user_idx, item_idx)\n",
        "            else:\n",
        "                pred_r = None\n",
        "        except Exception as e:\n",
        "            print(f\"Error predicting for user {uid}, item {iid}: {e}\")\n",
        "            pred_r = None\n",
        "\n",
        "        # Fall back to global mean if prediction is None\n",
        "        if pred_r is None:\n",
        "            pred_r = global_mean\n",
        "\n",
        "        predictions.append((uid, iid, true_r, pred_r, {'method': 'item_based_cf'}))\n",
        "\n",
        "    return predictions\n",
        "\n",
        "# Hitung rating rata-rata global untuk fallback\n",
        "global_mean = np.mean(filtered_ratings['rating'])\n",
        "\n",
        "# Mengambil sampel kecil dari testset untuk efisiensi\n",
        "sample_testset = testset[:5000]  # menggunakan 5000 data test untuk efisiensi\n",
        "\n",
        "# Evaluasi User-based CF\n",
        "print(\"Evaluating User-based CF...\")\n",
        "predictions_user = test_user_based_cf(sample_testset)\n",
        "rmse_user = accuracy.rmse(predictions_user)\n",
        "mae_user = accuracy.mae(predictions_user)\n",
        "\n",
        "# Evaluasi Item-based CF\n",
        "print(\"Evaluating Item-based CF...\")\n",
        "predictions_item = test_item_based_cf(sample_testset)\n",
        "rmse_item = accuracy.rmse(predictions_item)\n",
        "mae_item = accuracy.mae(predictions_item)\n",
        "\n",
        "# Output hasil perbandingan dari ketiga model\n",
        "print(\"\\nComparison of all models:\")\n",
        "print(f\"SVD - RMSE: {rmse_svd:.4f}, MAE: {mae_svd:.4f}\")\n",
        "print(f\"User-based CF - RMSE: {rmse_user:.4f}, MAE: {mae_user:.4f}\")\n",
        "print(f\"Item-based CF - RMSE: {rmse_item:.4f}, MAE: {mae_item:.4f}\")"
      ]
    },
    {
      "cell_type": "markdown",
      "id": "acbe0c70",
      "metadata": {
        "id": "acbe0c70"
      },
      "source": [
        "Model SVD menunjukkan performa terbaik dengan RMSE dan MAE terendah, diikuti Item-based CF dan User-based CF."
      ]
    },
    {
      "cell_type": "markdown",
      "id": "b73d088a",
      "metadata": {
        "id": "b73d088a"
      },
      "source": [
        "### Evaluasi dengan NDCG"
      ]
    },
    {
      "cell_type": "markdown",
      "id": "3ac3777a",
      "metadata": {
        "id": "3ac3777a"
      },
      "source": [
        "**NDCG** (Normalized Discounted Cumulative Gain) mengukur kualitas ranking rekomendasi dengan memberikan bobot lebih tinggi pada item relevan yang muncul di posisi atas. Metrik ini menghitung **DCG** berdasarkan urutan rekomendasi dan membandingkannya dengan **IDCG** (ranking ideal) untuk mendapatkan nilai normalisasi antara 0-1. **DCG** dihitung dengan memberikan bobot berdasarkan posisi item dalam daftar rekomendasi, di mana item relevan yang muncul di posisi atas akan memberikan kontribusi lebih besar pada nilai DCG. **IDCG** adalah **DCG** yang dihitung berdasarkan urutan rating ideal (tertinggi ke terendah) dalam dataset.\n",
        "\n",
        "Evaluasi NDCG dilakukan dengan menghitung **DCG** untuk rekomendasi yang dihasilkan oleh model, dan membandingkannya dengan **IDCG** untuk mendapatkan **NDCG** antara 0-1."
      ]
    },
    {
      "cell_type": "code",
      "execution_count": 46,
      "id": "06eca1cb",
      "metadata": {
        "id": "06eca1cb",
        "outputId": "d28cf61c-c59b-4b83-d807-d407e613443e"
      },
      "outputs": [
        {
          "name": "stdout",
          "output_type": "stream",
          "text": [
            "SVD - Average NDCG: 0.4869\n",
            "User-based CF - Average NDCG: 0.4861\n",
            "Item-based CF - Average NDCG: 0.4854\n"
          ]
        }
      ],
      "source": [
        "def calculate_ndcg_at_k(model_type, user_id, k=10):\n",
        "    # Konversi user_id ke user_idx\n",
        "    if user_id not in user_to_idx:\n",
        "        return \"User tidak ditemukan dalam dataset\"\n",
        "\n",
        "    user_idx = user_to_idx[user_id]\n",
        "\n",
        "    # Ambil data testing untuk user ini\n",
        "    user_test = test_data[test_data['user_id'] == user_idx]\n",
        "\n",
        "    # Semua item yang telah dirating oleh pengguna di test set\n",
        "    test_items = user_test[['anime_id', 'rating']].set_index('anime_id')['rating'].to_dict()\n",
        "\n",
        "    # Jika tidak ada item test, skip\n",
        "    if len(test_items) == 0:\n",
        "        return None\n",
        "\n",
        "    # Dapatkan rekomendasi dari model\n",
        "    predictions = []\n",
        "    all_items = set(anime_to_idx.values())\n",
        "    rated_items = set(train_data[train_data['user_idx'] == user_idx]['anime_id'].tolist())\n",
        "    unrated_items = all_items - rated_items\n",
        "\n",
        "    for item_idx in unrated_items:\n",
        "        if item_idx in test_items:  # hanya prediksi untuk item yang ada di test set\n",
        "            if model_type == 'svd':\n",
        "                predictions.append((item_idx, svd_model.predict(user_idx, item_idx).est))\n",
        "            elif model_type == 'user':\n",
        "                pred = user_based_prediction(user_idx, item_idx)\n",
        "                if pred is not None:\n",
        "                    predictions.append((item_idx, pred))\n",
        "            elif model_type == 'item':\n",
        "                pred = item_based_prediction(user_idx, item_idx)\n",
        "                if pred is not None:\n",
        "                    predictions.append((item_idx, pred))\n",
        "\n",
        "    # Sorting dan ambil top K\n",
        "    predictions.sort(key=lambda x: x[1], reverse=True)\n",
        "    recommended_items = [item[0] for item in predictions[:k]]\n",
        "\n",
        "    # Hitung DCG\n",
        "    dcg = 0\n",
        "    ideal_dcg = 0\n",
        "\n",
        "    # Buat list dari rating sesuai urutan rekomendasi\n",
        "    actual_ratings = [test_items.get(item, 0) for item in recommended_items]\n",
        "\n",
        "    # Buat list rating ideal (terurut dari rating tertinggi ke terendah)\n",
        "    ideal_ratings = sorted([rating for rating in test_items.values()], reverse=True)[:k]\n",
        "\n",
        "    # Hitung DCG\n",
        "    for i, rating in enumerate(actual_ratings):\n",
        "        dcg += rating / np.log2(i + 2)  # i+2 karena i dimulai dari 0, dan log2(1) = 0\n",
        "\n",
        "    # Hitung IDCG\n",
        "    for i, rating in enumerate(ideal_ratings):\n",
        "        ideal_dcg += rating / np.log2(i + 2)\n",
        "\n",
        "    if ideal_dcg == 0:\n",
        "        return 0\n",
        "\n",
        "    ndcg = dcg / ideal_dcg\n",
        "    return ndcg\n",
        "\n",
        "# Evaluasi NDCG untuk sampel pengguna\n",
        "ndcg_svd = []\n",
        "ndcg_user = []\n",
        "ndcg_item = []\n",
        "\n",
        "sample_users = list(user_to_idx.keys())[:50]  # ambil 50 pengguna pertama sebagai sampel untuk efisiensi\n",
        "\n",
        "for user_id in sample_users:\n",
        "    # Evaluasi SVD\n",
        "    result_svd = calculate_ndcg_at_k('svd', user_id, k=10)\n",
        "    if result_svd is not None:\n",
        "        ndcg_svd.append(result_svd)\n",
        "\n",
        "    # Evaluasi User-based CF\n",
        "    result_user = calculate_ndcg_at_k('user', user_id, k=10)\n",
        "    if result_user is not None:\n",
        "        ndcg_user.append(result_user)\n",
        "\n",
        "    # Evaluasi Item-based CF\n",
        "    result_item = calculate_ndcg_at_k('item', user_id, k=10)\n",
        "    if result_item is not None:\n",
        "        ndcg_item.append(result_item)\n",
        "\n",
        "avg_ndcg_svd = sum(ndcg_svd) / len(ndcg_svd) if ndcg_svd else 0\n",
        "avg_ndcg_user = sum(ndcg_user) / len(ndcg_user) if ndcg_user else 0\n",
        "avg_ndcg_item = sum(ndcg_item) / len(ndcg_item) if ndcg_item else 0\n",
        "\n",
        "print(f\"SVD - Average NDCG: {avg_ndcg_svd:.4f}\")\n",
        "print(f\"User-based CF - Average NDCG: {avg_ndcg_user:.4f}\")\n",
        "print(f\"Item-based CF - Average NDCG: {avg_ndcg_item:.4f}\")\n"
      ]
    },
    {
      "cell_type": "markdown",
      "id": "d4be347d",
      "metadata": {
        "id": "d4be347d"
      },
      "source": [
        "Model SVD menunjukkan NDCG tertinggi yang menandakan kemampuan dia yang bagus dalam menempatkan item berkualitas tinggi di posisi teratas dalam daftar rekomendasi, diikuti User-based CF dan Item-based CF."
      ]
    },
    {
      "cell_type": "markdown",
      "id": "6a256a22",
      "metadata": {
        "id": "6a256a22"
      },
      "source": [
        "### Ringkasan Evaluasi"
      ]
    },
    {
      "cell_type": "markdown",
      "id": "c6ae2ac6",
      "metadata": {
        "id": "c6ae2ac6"
      },
      "source": [
        "Kita membandingkan hasil evaluasi dari tiga model rekomendasi yang telah dilatih sebelumnya. Berikut adalah nilai RMSE, MAE, dan NDCG untuk masing-masing model:\n",
        "\n",
        "- **Model SVD** menunjukkan hasil terbaik dengan RMSE 1.2500, MAE 0.9533, dan NDCG 0.4897.\n",
        "- **Model User-based Collaborative Filtering** memiliki RMSE 1.7076, MAE 1.3457, dan NDCG 0.4861.\n",
        "- **Model Item-based Collaborative Filtering** mencatatkan RMSE 1.6805, MAE 1.3163, dan NDCG 0.4854.\n",
        "\n",
        "Secara keseluruhan, model **SVD** memberikan kinerja terbaik berdasarkan metrik evaluasi yang digunakan."
      ]
    },
    {
      "cell_type": "code",
      "execution_count": 47,
      "id": "415f65a5",
      "metadata": {
        "id": "415f65a5",
        "outputId": "d4d8f3e3-e2f7-4813-bff9-1fcc1458583f"
      },
      "outputs": [
        {
          "name": "stdout",
          "output_type": "stream",
          "text": [
            "Model Comparison:\n",
            "Model           RMSE     MAE      NDCG    \n",
            "----------------------------------------\n",
            "SVD             1.2485  0.9521  0.4869\n",
            "User-based CF   1.7076  1.3457  0.4861\n",
            "Item-based CF   1.6805  1.3163  0.4854\n"
          ]
        }
      ],
      "source": [
        "# Tampilkan hasil perbandingan dalam bentuk tabel\n",
        "print(\"Model Comparison:\")\n",
        "print(f\"{'Model':<15} {'RMSE':<8} {'MAE':<8} {'NDCG':<8}\")\n",
        "print(\"-\" * 40)\n",
        "\n",
        "# Hasil perbandingan untuk model SVD\n",
        "print(f\"{'SVD':<15} {rmse_svd:.4f}  {mae_svd:.4f}  {avg_ndcg_svd:.4f}\")\n",
        "\n",
        "# Hasil perbandingan untuk model User-based CF\n",
        "print(f\"{'User-based CF':<15} {rmse_user:.4f}  {mae_user:.4f}  {avg_ndcg_user:.4f}\")\n",
        "\n",
        "# Hasil perbandingan untuk model Item-based CF\n",
        "print(f\"{'Item-based CF':<15} {rmse_item:.4f}  {mae_item:.4f}  {avg_ndcg_item:.4f}\")\n"
      ]
    }
  ],
  "metadata": {
    "colab": {
      "provenance": []
    },
    "kernelspec": {
      "display_name": "Python 3",
      "language": "python",
      "name": "python3"
    },
    "language_info": {
      "codemirror_mode": {
        "name": "ipython",
        "version": 3
      },
      "file_extension": ".py",
      "mimetype": "text/x-python",
      "name": "python",
      "nbconvert_exporter": "python",
      "pygments_lexer": "ipython3",
      "version": "3.12.9"
    }
  },
  "nbformat": 4,
  "nbformat_minor": 5
}
